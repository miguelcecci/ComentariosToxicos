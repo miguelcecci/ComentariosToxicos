{
 "cells": [
  {
   "cell_type": "code",
   "execution_count": 9,
   "metadata": {},
   "outputs": [],
   "source": [
    "import pandas as pd\n",
    "import seaborn as sns\n",
    "\n",
    "#opt\n",
    "import os"
   ]
  },
  {
   "cell_type": "code",
   "execution_count": 3,
   "metadata": {},
   "outputs": [],
   "source": [
    "if not os.path.exists('data'):\n",
    "    os.system('kaggle competitions download -c jigsaw-toxic-comment-classification-challenge -p data/')\n",
    "    os.system('unzip data/train.csv.zip -d data/ && unzip data/test.csv.zip -d data/')\n",
    "    os.system('rm data/train.csv.zip && rm data/test.csv.zip')\n",
    "    print(\"Dataset loaded\")"
   ]
  },
  {
   "cell_type": "code",
   "execution_count": 4,
   "metadata": {},
   "outputs": [],
   "source": [
    "df_train = pd.read_csv('data/train.csv')"
   ]
  },
  {
   "cell_type": "code",
   "execution_count": 5,
   "metadata": {},
   "outputs": [
    {
     "data": {
      "text/plain": [
       "159571"
      ]
     },
     "execution_count": 5,
     "metadata": {},
     "output_type": "execute_result"
    }
   ],
   "source": [
    "len(df_train)"
   ]
  },
  {
   "cell_type": "code",
   "execution_count": 6,
   "metadata": {},
   "outputs": [
    {
     "data": {
      "text/html": [
       "<div>\n",
       "<style scoped>\n",
       "    .dataframe tbody tr th:only-of-type {\n",
       "        vertical-align: middle;\n",
       "    }\n",
       "\n",
       "    .dataframe tbody tr th {\n",
       "        vertical-align: top;\n",
       "    }\n",
       "\n",
       "    .dataframe thead th {\n",
       "        text-align: right;\n",
       "    }\n",
       "</style>\n",
       "<table border=\"1\" class=\"dataframe\">\n",
       "  <thead>\n",
       "    <tr style=\"text-align: right;\">\n",
       "      <th></th>\n",
       "      <th>id</th>\n",
       "      <th>comment_text</th>\n",
       "      <th>toxic</th>\n",
       "      <th>severe_toxic</th>\n",
       "      <th>obscene</th>\n",
       "      <th>threat</th>\n",
       "      <th>insult</th>\n",
       "      <th>identity_hate</th>\n",
       "    </tr>\n",
       "  </thead>\n",
       "  <tbody>\n",
       "    <tr>\n",
       "      <th>100</th>\n",
       "      <td>003f698d06c9b180</td>\n",
       "      <td>However, the Moonlite edit noted by golden dap...</td>\n",
       "      <td>0</td>\n",
       "      <td>0</td>\n",
       "      <td>0</td>\n",
       "      <td>0</td>\n",
       "      <td>0</td>\n",
       "      <td>0</td>\n",
       "    </tr>\n",
       "    <tr>\n",
       "      <th>101</th>\n",
       "      <td>003fa0c68deca750</td>\n",
       "      <td>Check the following websites:\\n\\nhttp://www.ir...</td>\n",
       "      <td>0</td>\n",
       "      <td>0</td>\n",
       "      <td>0</td>\n",
       "      <td>0</td>\n",
       "      <td>0</td>\n",
       "      <td>0</td>\n",
       "    </tr>\n",
       "    <tr>\n",
       "      <th>102</th>\n",
       "      <td>0040017ef6277334</td>\n",
       "      <td>i can't believe no one has already put up this...</td>\n",
       "      <td>0</td>\n",
       "      <td>0</td>\n",
       "      <td>0</td>\n",
       "      <td>0</td>\n",
       "      <td>0</td>\n",
       "      <td>0</td>\n",
       "    </tr>\n",
       "    <tr>\n",
       "      <th>103</th>\n",
       "      <td>004176f28a17bf45</td>\n",
       "      <td>\"\\n\\nWell, after I asked you to provide the di...</td>\n",
       "      <td>0</td>\n",
       "      <td>0</td>\n",
       "      <td>0</td>\n",
       "      <td>0</td>\n",
       "      <td>0</td>\n",
       "      <td>0</td>\n",
       "    </tr>\n",
       "    <tr>\n",
       "      <th>104</th>\n",
       "      <td>0044cf18cc2655b3</td>\n",
       "      <td>What page shoudld there be for important chara...</td>\n",
       "      <td>0</td>\n",
       "      <td>0</td>\n",
       "      <td>0</td>\n",
       "      <td>0</td>\n",
       "      <td>0</td>\n",
       "      <td>0</td>\n",
       "    </tr>\n",
       "    <tr>\n",
       "      <th>105</th>\n",
       "      <td>00472b8e2d38d1ea</td>\n",
       "      <td>A pair of jew-hating weiner nazi schmucks.</td>\n",
       "      <td>1</td>\n",
       "      <td>0</td>\n",
       "      <td>1</td>\n",
       "      <td>0</td>\n",
       "      <td>1</td>\n",
       "      <td>1</td>\n",
       "    </tr>\n",
       "    <tr>\n",
       "      <th>106</th>\n",
       "      <td>00480b6e1f19601b</td>\n",
       "      <td>I tend to think that when the list is longer t...</td>\n",
       "      <td>0</td>\n",
       "      <td>0</td>\n",
       "      <td>0</td>\n",
       "      <td>0</td>\n",
       "      <td>0</td>\n",
       "      <td>0</td>\n",
       "    </tr>\n",
       "    <tr>\n",
       "      <th>107</th>\n",
       "      <td>0048de0c9422f64f</td>\n",
       "      <td>\"\\n\\n What's up with this? \\n\"\"If you are a re...</td>\n",
       "      <td>0</td>\n",
       "      <td>0</td>\n",
       "      <td>0</td>\n",
       "      <td>0</td>\n",
       "      <td>0</td>\n",
       "      <td>0</td>\n",
       "    </tr>\n",
       "    <tr>\n",
       "      <th>108</th>\n",
       "      <td>0048e4ed8a0af433</td>\n",
       "      <td>I'm not vandalizing  \\n\\nI'm just having fun m...</td>\n",
       "      <td>0</td>\n",
       "      <td>0</td>\n",
       "      <td>0</td>\n",
       "      <td>0</td>\n",
       "      <td>0</td>\n",
       "      <td>0</td>\n",
       "    </tr>\n",
       "    <tr>\n",
       "      <th>109</th>\n",
       "      <td>004a23742282fee4</td>\n",
       "      <td>Welcome to Wikipedia ! [bla] Discover Ekopedia...</td>\n",
       "      <td>0</td>\n",
       "      <td>0</td>\n",
       "      <td>0</td>\n",
       "      <td>0</td>\n",
       "      <td>0</td>\n",
       "      <td>0</td>\n",
       "    </tr>\n",
       "    <tr>\n",
       "      <th>110</th>\n",
       "      <td>004a789c03eda830</td>\n",
       "      <td>Including some appropriate mention of the Solo...</td>\n",
       "      <td>0</td>\n",
       "      <td>0</td>\n",
       "      <td>0</td>\n",
       "      <td>0</td>\n",
       "      <td>0</td>\n",
       "      <td>0</td>\n",
       "    </tr>\n",
       "    <tr>\n",
       "      <th>111</th>\n",
       "      <td>004af8a71399a4dc</td>\n",
       "      <td>\"\\n\\nComment. I could not verify the claim.  (...</td>\n",
       "      <td>0</td>\n",
       "      <td>0</td>\n",
       "      <td>0</td>\n",
       "      <td>0</td>\n",
       "      <td>0</td>\n",
       "      <td>0</td>\n",
       "    </tr>\n",
       "    <tr>\n",
       "      <th>112</th>\n",
       "      <td>004b073d5b456b15</td>\n",
       "      <td>\"\\n Czech Republic is in Central Europe. The s...</td>\n",
       "      <td>0</td>\n",
       "      <td>0</td>\n",
       "      <td>0</td>\n",
       "      <td>0</td>\n",
       "      <td>0</td>\n",
       "      <td>0</td>\n",
       "    </tr>\n",
       "    <tr>\n",
       "      <th>113</th>\n",
       "      <td>004b103182fb1eab</td>\n",
       "      <td>Thanks, Josette. I enjoyed meeting you, too. I...</td>\n",
       "      <td>0</td>\n",
       "      <td>0</td>\n",
       "      <td>0</td>\n",
       "      <td>0</td>\n",
       "      <td>0</td>\n",
       "      <td>0</td>\n",
       "    </tr>\n",
       "    <tr>\n",
       "      <th>114</th>\n",
       "      <td>004b975fabbbffa9</td>\n",
       "      <td>Paleontologists agree that organic remains mus...</td>\n",
       "      <td>0</td>\n",
       "      <td>0</td>\n",
       "      <td>0</td>\n",
       "      <td>0</td>\n",
       "      <td>0</td>\n",
       "      <td>0</td>\n",
       "    </tr>\n",
       "    <tr>\n",
       "      <th>115</th>\n",
       "      <td>004b97c80705a548</td>\n",
       "      <td>Also I think Vegetable Basket needs it's own W...</td>\n",
       "      <td>0</td>\n",
       "      <td>0</td>\n",
       "      <td>0</td>\n",
       "      <td>0</td>\n",
       "      <td>0</td>\n",
       "      <td>0</td>\n",
       "    </tr>\n",
       "    <tr>\n",
       "      <th>116</th>\n",
       "      <td>004d07d94cb92e35</td>\n",
       "      <td>Bigfoot Reference \\n\\nThe magazine is better k...</td>\n",
       "      <td>0</td>\n",
       "      <td>0</td>\n",
       "      <td>0</td>\n",
       "      <td>0</td>\n",
       "      <td>0</td>\n",
       "      <td>0</td>\n",
       "    </tr>\n",
       "    <tr>\n",
       "      <th>117</th>\n",
       "      <td>004d912a00f79c89</td>\n",
       "      <td>Also see this if you cant trust Murkoth Ramunn...</td>\n",
       "      <td>0</td>\n",
       "      <td>0</td>\n",
       "      <td>0</td>\n",
       "      <td>0</td>\n",
       "      <td>0</td>\n",
       "      <td>0</td>\n",
       "    </tr>\n",
       "    <tr>\n",
       "      <th>118</th>\n",
       "      <td>004de318396bbf8b</td>\n",
       "      <td>\"\\n\\n Chart performance of \"\"Single Ladies (Pu...</td>\n",
       "      <td>0</td>\n",
       "      <td>0</td>\n",
       "      <td>0</td>\n",
       "      <td>0</td>\n",
       "      <td>0</td>\n",
       "      <td>0</td>\n",
       "    </tr>\n",
       "    <tr>\n",
       "      <th>119</th>\n",
       "      <td>004e59705689a5ed</td>\n",
       "      <td>\"\\n\\nhahahaha.... good one ......\\nI have remo...</td>\n",
       "      <td>0</td>\n",
       "      <td>0</td>\n",
       "      <td>0</td>\n",
       "      <td>0</td>\n",
       "      <td>0</td>\n",
       "      <td>0</td>\n",
       "    </tr>\n",
       "  </tbody>\n",
       "</table>\n",
       "</div>"
      ],
      "text/plain": [
       "                   id                                       comment_text  \\\n",
       "100  003f698d06c9b180  However, the Moonlite edit noted by golden dap...   \n",
       "101  003fa0c68deca750  Check the following websites:\\n\\nhttp://www.ir...   \n",
       "102  0040017ef6277334  i can't believe no one has already put up this...   \n",
       "103  004176f28a17bf45  \"\\n\\nWell, after I asked you to provide the di...   \n",
       "104  0044cf18cc2655b3  What page shoudld there be for important chara...   \n",
       "105  00472b8e2d38d1ea         A pair of jew-hating weiner nazi schmucks.   \n",
       "106  00480b6e1f19601b  I tend to think that when the list is longer t...   \n",
       "107  0048de0c9422f64f  \"\\n\\n What's up with this? \\n\"\"If you are a re...   \n",
       "108  0048e4ed8a0af433  I'm not vandalizing  \\n\\nI'm just having fun m...   \n",
       "109  004a23742282fee4  Welcome to Wikipedia ! [bla] Discover Ekopedia...   \n",
       "110  004a789c03eda830  Including some appropriate mention of the Solo...   \n",
       "111  004af8a71399a4dc  \"\\n\\nComment. I could not verify the claim.  (...   \n",
       "112  004b073d5b456b15  \"\\n Czech Republic is in Central Europe. The s...   \n",
       "113  004b103182fb1eab  Thanks, Josette. I enjoyed meeting you, too. I...   \n",
       "114  004b975fabbbffa9  Paleontologists agree that organic remains mus...   \n",
       "115  004b97c80705a548  Also I think Vegetable Basket needs it's own W...   \n",
       "116  004d07d94cb92e35  Bigfoot Reference \\n\\nThe magazine is better k...   \n",
       "117  004d912a00f79c89  Also see this if you cant trust Murkoth Ramunn...   \n",
       "118  004de318396bbf8b  \"\\n\\n Chart performance of \"\"Single Ladies (Pu...   \n",
       "119  004e59705689a5ed  \"\\n\\nhahahaha.... good one ......\\nI have remo...   \n",
       "\n",
       "     toxic  severe_toxic  obscene  threat  insult  identity_hate  \n",
       "100      0             0        0       0       0              0  \n",
       "101      0             0        0       0       0              0  \n",
       "102      0             0        0       0       0              0  \n",
       "103      0             0        0       0       0              0  \n",
       "104      0             0        0       0       0              0  \n",
       "105      1             0        1       0       1              1  \n",
       "106      0             0        0       0       0              0  \n",
       "107      0             0        0       0       0              0  \n",
       "108      0             0        0       0       0              0  \n",
       "109      0             0        0       0       0              0  \n",
       "110      0             0        0       0       0              0  \n",
       "111      0             0        0       0       0              0  \n",
       "112      0             0        0       0       0              0  \n",
       "113      0             0        0       0       0              0  \n",
       "114      0             0        0       0       0              0  \n",
       "115      0             0        0       0       0              0  \n",
       "116      0             0        0       0       0              0  \n",
       "117      0             0        0       0       0              0  \n",
       "118      0             0        0       0       0              0  \n",
       "119      0             0        0       0       0              0  "
      ]
     },
     "execution_count": 6,
     "metadata": {},
     "output_type": "execute_result"
    }
   ],
   "source": [
    "df_train[100:120]"
   ]
  },
  {
   "cell_type": "code",
   "execution_count": 13,
   "metadata": {},
   "outputs": [
    {
     "name": "stdout",
     "output_type": "stream",
     "text": [
      "0    143346\n",
      "1      6360\n",
      "3      4209\n",
      "2      3480\n",
      "4      1760\n",
      "5       385\n",
      "6        31\n",
      "dtype: int64\n"
     ]
    }
   ],
   "source": [
    "multilabel = df_train.iloc[:,2:].sum(axis=1).value_counts()\n",
    "print(multilabel)"
   ]
  },
  {
   "cell_type": "code",
   "execution_count": 14,
   "metadata": {},
   "outputs": [
    {
     "data": {
      "text/plain": [
       "<matplotlib.axes._subplots.AxesSubplot at 0x10e1b6588>"
      ]
     },
     "execution_count": 14,
     "metadata": {},
     "output_type": "execute_result"
    },
    {
     "data": {
      "image/png": "[encoded data removed]",
      "text/plain": [
       "<matplotlib.figure.Figure at 0x10425f320>"
      ]
     },
     "metadata": {},
     "output_type": "display_data"
    }
   ],
   "source": [
    "sns.barplot(multilabel.index, multilabel.values)"
   ]
  },
  {
   "cell_type": "code",
   "execution_count": 15,
   "metadata": {},
   "outputs": [],
   "source": [
    "df_train['clean'] = df_train.iloc[:,2:].sum(axis=1) == 0"
   ]
  },
  {
   "cell_type": "code",
   "execution_count": 18,
   "metadata": {},
   "outputs": [
    {
     "name": "stdout",
     "output_type": "stream",
     "text": [
      "threat              478.0\n",
      "identity_hate      1405.0\n",
      "severe_toxic       1595.0\n",
      "insult             7877.0\n",
      "obscene            8449.0\n",
      "toxic             15294.0\n",
      "clean            143346.0\n",
      "dtype: float64\n"
     ]
    }
   ],
   "source": [
    "labels = df_train.iloc[:,2:].sum().sort_values()\n",
    "print(labels)"
   ]
  },
  {
   "cell_type": "code",
   "execution_count": 20,
   "metadata": {},
   "outputs": [
    {
     "data": {
      "text/plain": [
       "<matplotlib.axes._subplots.AxesSubplot at 0x10ea5e4a8>"
      ]
     },
     "execution_count": 20,
     "metadata": {},
     "output_type": "execute_result"
    },
    {
     "data": {
      "image/png": "[encoded data removed]",
      "text/plain": [
       "<matplotlib.figure.Figure at 0x10ea31438>"
      ]
     },
     "metadata": {},
     "output_type": "display_data"
    }
   ],
   "source": [
    "sns.barplot(labels.index, labels.values)"
   ]
  },
  {
   "cell_type": "code",
   "execution_count": null,
   "metadata": {},
   "outputs": [],
   "source": [
    "sns.barplot(classes.index, classes.values)"
   ]
  },
  {
   "cell_type": "code",
   "execution_count": null,
   "metadata": {},
   "outputs": [],
   "source": []
  }
 ],
 "metadata": {
  "kernelspec": {
   "display_name": "Python 3",
   "language": "python",
   "name": "python3"
  },
  "language_info": {
   "codemirror_mode": {
    "name": "ipython",
    "version": 3
   },
   "file_extension": ".py",
   "mimetype": "text/x-python",
   "name": "python",
   "nbconvert_exporter": "python",
   "pygments_lexer": "ipython3",
   "version": "3.6.4"
  }
 },
 "nbformat": 4,
 "nbformat_minor": 2
}
